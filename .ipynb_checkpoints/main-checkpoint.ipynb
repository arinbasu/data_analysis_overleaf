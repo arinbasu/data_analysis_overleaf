{
 "cells": [
  {
   "cell_type": "markdown",
   "metadata": {},
   "source": [
    "## Why and how are we doing this?\n",
    "Jupyter is a powerful tool to work with data and text; Jupyter uses the markdown format to write text <cite data-cite=\"perez2015\"></cite>. \n",
    "\n",
    "Overleaf is a webapp that uses latex to output text. The purpose of this workflow is to show that it is possible to create a repo using Overleaf, then work using Jupyter and then using Jupyter, you can push a latex documen back to Overleaf.\n",
    "Overleaf -> github -> Jupyter notebook -> latex -> Overleaf\n",
    "\n",
    "This is an example. Here are the steps:\n",
    "\n",
    "1. Start a document in Overleaf. To do so, log into [Overleaf version two](http://v2.overleaf.com) and then select a new project\n",
    "2. Link the project to [github](http://www.github.com)\n",
    "3. On your PC, create a new folder, cd into it, and do: `git init; git remote add origin {URL of the github repo}`\n",
    "4. Then in the same folder start a jupyter file and name it as `main.ipynb` \n",
    "5. Write your content and run your analyses in Jupyter\n",
    "6. Add two code blocks and run them\n",
    "7. Then, when you are done with your analyses, export the contents of file to github repo but first convert the ipynb to latex. "
   ]
  },
  {
   "cell_type": "code",
   "execution_count": 9,
   "metadata": {},
   "outputs": [
    {
     "name": "stdout",
     "output_type": "stream",
     "text": [
      "Overwriting temp.tplx\n"
     ]
    }
   ],
   "source": [
    "%%writefile temp.tplx\n",
    "((*- extends 'article.tplx' -*))\n",
    "\n",
    "((* block author *))\n",
    "\\author{Arindam Basu}\n",
    "((* endblock author *))\n",
    "\n",
    "((* block title *))\n",
    "\\title{My first data analysis example}\n",
    "((* endblock title *))\n",
    "\n",
    "((* block bibliography *))\n",
    "\\bibliographystyle{unsrt}\n",
    "\\bibliography{refs}\n",
    "((* endblock bibliography *))"
   ]
  },
  {
   "cell_type": "code",
   "execution_count": 11,
   "metadata": {},
   "outputs": [
    {
     "name": "stderr",
     "output_type": "stream",
     "text": [
      "[NbConvertApp] Converting notebook main.ipynb to latex\n",
      "[NbConvertApp] Writing 17738 bytes to main.tex\n"
     ]
    }
   ],
   "source": [
    "%%bash\n",
    "jupyter nbconvert --to latex --template temp main.ipynb"
   ]
  },
  {
   "cell_type": "code",
   "execution_count": null,
   "metadata": {},
   "outputs": [],
   "source": []
  }
 ],
 "metadata": {
  "kernelspec": {
   "display_name": "Python 3",
   "language": "python",
   "name": "python3"
  },
  "language_info": {
   "codemirror_mode": {
    "name": "ipython",
    "version": 3
   },
   "file_extension": ".py",
   "mimetype": "text/x-python",
   "name": "python",
   "nbconvert_exporter": "python",
   "pygments_lexer": "ipython3",
   "version": "3.6.3"
  }
 },
 "nbformat": 4,
 "nbformat_minor": 2
}
