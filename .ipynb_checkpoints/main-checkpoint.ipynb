{
 "cells": [
  {
   "cell_type": "markdown",
   "metadata": {},
   "source": [
    "## Data science workflow with Jupyter and Overleaf v2, Part I: setup\n",
    "\n",
    "[Jupyter](https://jupyter.org/) is a tool to work with data and text; Jupyter uses the markdown format to write text, and you can use markdown to write text in Jupyter and then convert the text to html and latex for outputs. If you use [Pandoc](http://pandoc.org), you can stretch the range of outputs to other formats (see the pandoc website for more options).  \n",
    "\n",
    "[Overleaf](http://www.overleaf.com) is a webapp that uses latex to output text. Recently Overelaf released their [Version 2 of the webapp](http://v2.overleaf.com); this version is still in beta; but a good feature of Overleaf's new version is integration with github. Jupyter+Github+Overleaf provides a way to write in Jupyter, share the notebook in github where you can maintain code and show the code outputs (using binder.org), and you can share a final draft of the work and collaborate with others using a PDF document. If you use the PDF document to share your idea in the form of preprints, you can seamlessly integrate a workflow with your data analysis. \n",
    "\n",
    "Here's my workflow is to show that it is possible to create a repo using Overleaf, then work using Jupyter and then, using Jupyter, you can push a latex document back to Overleaf.\n",
    "\n",
    "Basically, \n",
    "`Overleaf -> github -> Jupyter notebook -> latex -> Overleaf`\n",
    "\n",
    "This is an example. For the first time you set up the workflow, you do the following: \n",
    "\n",
    "1. Start a document in Overleaf. To do so, log into [Overleaf version two](http://v2.overleaf.com) and then select a new project\n",
    "2. Link the project to [github](http://www.github.com)\n",
    "3. On your PC, create a new folder, `cd` into it, and do: `git init; git remote add origin {URL of the github repo}`\n",
    "4. Then in the same folder start a jupyter file and name it as `main.ipynb` (this is not needed; it is my shortcut, you can name your file anything indeed).\n",
    "5. Write your content and run your analyses in Jupyter.\n",
    "6. Create a special tplx file to modify the latex outputs from jupyter notebooks\n",
    "7. Then, when you are done with your analyses, convert the jupyter notebook to a latex file.\n",
    "8. Then export the contents of file to github repo but first convert the ipynb to latex. \n",
    "9. Finally, pull the contents of the github to Overleaf.\n",
    "\n",
    "In subsequent stages, all you do is to write or edit the document in Jupyter, convert to latex, push it to github, and pull it in from Overleaf. \n",
    "\n",
    "What this process does obviously sets up a one way push from Jupyter notebook to Overleaf. At this time it is not possible to set up a reverse transformation from latex to jupyter notebook formats. But there are several ways in which a jupyter notebook format allows for nice integration between code, text and harnesses the power of Overleaf. \n",
    "\n",
    "## Requirements\n",
    "For this to work, you will need a working copy each of the following:\n",
    "\n",
    "1. You will need Jupyter notebook installed\n",
    "2. You will need Pandoc installed\n",
    "3. If you also want to see how the PDF will appear locally once rendered, you will need a copy of LaTeX software for your platform\n",
    "4. Finally, you will need Git for this to work.\n",
    "\n",
    "## A few other things\n",
    "\n",
    "In an academic article, we tend to do following:\n",
    "\n",
    "- We write in chunks and paragraphs. We move around the paragraphs etc. All of these are already built in Jupyter and helps.\n",
    "- Lists, are supported off the box. \n",
    "\n",
    "### Writing tables\n",
    "\n",
    "For tables, you can use Markdown tables in Jupyter. For outputs of analyses you use R and use [knitr package](https://yihui.name/knitr), yoou can write codes in R and output neat markdown tables that will be correctly rendered in LaTeX. I you use Python, you can use [pytablewriter](https://github.com/thombashi/pytablewriter)\n",
    "\n",
    "### Inserting Citations\n",
    "\n",
    "Use a bibtex file (a file with extension `.bib`) to work with. Most reference managers will output a bibtex file, and I find [Jabref](http://www.jabref.org) very useful in managing bibtex files. You can use [Zotero](http://www.zotero.org) as well. Google scholar provides bibtex file support. Here are the steps:\n",
    "\n",
    "- Create a bibtex file first and store in the folder where your latex file lies\n",
    "- Where you want to insert the citation, do <cite data-cite=\"perez2015\"></cite>, where citationID = ID code of the citation or reference\n",
    "- Create a template.tplx file. It is a plain text file. I call my template expander file as temp.tplx. Modify the block of bibliography as I have shown below. Substitute this with your own bibtex file.\n",
    "- When you convert from ipynb to latex, let Jupyter know the template, see the conversion example below. \n",
    "\n",
    "\n",
    "## Next Steps\n",
    "\n",
    "First, Jupyter is versatile in being simple and in weaving code and text seamlessly using Markdown and at least three languages (R, Julia, and Python) and you can seamlessly change between them. Second, using github as an intermediate channel, you can share the python notebooks via [mybinder.org](http://mybinder.org) and this way, you can share a notebook for wider audience and channel a tidy PDF version that you can publish as preprint. You can also collaborate with others on the LaTeX version as the final production version of tables and graphs while keeping the production version of the notebook. While notebooks are useful in their own ways, a text based PDF-ised version with a LaTeX backend is often easy to read. In part II of this series, I will explore doing data analysis in Jupyter and writing about it in Overleaf. "
   ]
  },
  {
   "cell_type": "code",
   "execution_count": null,
   "metadata": {},
   "outputs": [],
   "source": [
    "%%writefile temp.tplx\n",
    "((*- extends 'article.tplx' -*))\n",
    "\n",
    "((* block author *))\n",
    "\\author{Arindam Basu}\n",
    "((* endblock author *))\n",
    "\n",
    "((* block title *))\n",
    "\\title{My first data analysis example}\n",
    "((* endblock title *))\n",
    "\n",
    "((* block bibliography *))\n",
    "\\bibliographystyle{unsrt}\n",
    "\\bibliography{refs}\n",
    "((* endblock bibliography *))"
   ]
  },
  {
   "cell_type": "code",
   "execution_count": null,
   "metadata": {},
   "outputs": [],
   "source": [
    "%%bash\n",
    "jupyter nbconvert --to latex --template temp main.ipynb"
   ]
  }
 ],
 "metadata": {
  "kernelspec": {
   "display_name": "Python 3",
   "language": "python",
   "name": "python3"
  },
  "language_info": {
   "codemirror_mode": {
    "name": "ipython",
    "version": 3
   },
   "file_extension": ".py",
   "mimetype": "text/x-python",
   "name": "python",
   "nbconvert_exporter": "python",
   "pygments_lexer": "ipython3",
   "version": "3.6.3"
  }
 },
 "nbformat": 4,
 "nbformat_minor": 2
}
